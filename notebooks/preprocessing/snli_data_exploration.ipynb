{
 "cells": [
  {
   "cell_type": "code",
   "execution_count": 10,
   "metadata": {
    "colab": {
     "base_uri": "https://localhost:8080/"
    },
    "executionInfo": {
     "elapsed": 20571,
     "status": "ok",
     "timestamp": 1671625631843,
     "user": {
      "displayName": "Hüseyin Yigit ÜLKER",
      "userId": "11051671432114641331"
     },
     "user_tz": -180
    },
    "id": "K04uInLk22n0",
    "outputId": "dd4d641e-2ba9-440a-b7a1-187feed7418c"
   },
   "outputs": [
    {
     "ename": "ModuleNotFoundError",
     "evalue": "No module named 'google'",
     "output_type": "error",
     "traceback": [
      "\u001b[0;31m---------------------------------------------------------------------------\u001b[0m",
      "\u001b[0;31mModuleNotFoundError\u001b[0m                       Traceback (most recent call last)",
      "Cell \u001b[0;32mIn[10], line 1\u001b[0m\n\u001b[0;32m----> 1\u001b[0m \u001b[39mfrom\u001b[39;00m \u001b[39mgoogle\u001b[39;00m\u001b[39m.\u001b[39;00m\u001b[39mcolab\u001b[39;00m \u001b[39mimport\u001b[39;00m drive\n\u001b[1;32m      3\u001b[0m drive\u001b[39m.\u001b[39mmount(\u001b[39m\"\u001b[39m\u001b[39m/content/drive\u001b[39m\u001b[39m\"\u001b[39m)\n",
      "\u001b[0;31mModuleNotFoundError\u001b[0m: No module named 'google'"
     ]
    }
   ],
   "source": [
    "from google.colab import drive\n",
    "\n",
    "drive.mount(\"/content/drive\")"
   ]
  },
  {
   "cell_type": "code",
   "execution_count": 12,
   "metadata": {
    "executionInfo": {
     "elapsed": 1802,
     "status": "ok",
     "timestamp": 1671625633640,
     "user": {
      "displayName": "Hüseyin Yigit ÜLKER",
      "userId": "11051671432114641331"
     },
     "user_tz": -180
    },
    "id": "ak7A6ItL3BrZ"
   },
   "outputs": [],
   "source": [
    "import pandas as pd\n",
    "import matplotlib.pyplot as plt\n",
    "import seaborn as sns"
   ]
  },
  {
   "attachments": {},
   "cell_type": "markdown",
   "metadata": {},
   "source": [
    "## Datasets Readed"
   ]
  },
  {
   "cell_type": "code",
   "execution_count": 13,
   "metadata": {
    "executionInfo": {
     "elapsed": 3401,
     "status": "ok",
     "timestamp": 1671625639367,
     "user": {
      "displayName": "Hüseyin Yigit ÜLKER",
      "userId": "11051671432114641331"
     },
     "user_tz": -180
    },
    "id": "8mvvXsV_3BvQ"
   },
   "outputs": [],
   "source": [
    "df_train = pd.read_csv(\n",
    "    \"/Users/emre/GitHub/success-of-ai-writers/data/raw/snli_1.0/snli_1.0_train.csv\"\n",
    ")\n",
    "df_val = pd.read_csv(\n",
    "    \"/Users/emre/GitHub/success-of-ai-writers/data/raw/snli_1.0/snli_1.0_dev.csv\"\n",
    ")\n",
    "df_test = pd.read_csv(\n",
    "    \"/Users/emre/GitHub/success-of-ai-writers/data/raw/snli_1.0/snli_1.0_test.csv\"\n",
    ")"
   ]
  },
  {
   "cell_type": "code",
   "execution_count": 14,
   "metadata": {
    "colab": {
     "base_uri": "https://localhost:8080/",
     "height": 322
    },
    "executionInfo": {
     "elapsed": 380,
     "status": "ok",
     "timestamp": 1671625663175,
     "user": {
      "displayName": "Hüseyin Yigit ÜLKER",
      "userId": "11051671432114641331"
     },
     "user_tz": -180
    },
    "id": "nTMz3bTXpwyz",
    "outputId": "d1cb3d54-6a1a-4ea8-cf47-85f1c33b9f8d"
   },
   "outputs": [
    {
     "data": {
      "text/html": [
       "<div>\n",
       "<style scoped>\n",
       "    .dataframe tbody tr th:only-of-type {\n",
       "        vertical-align: middle;\n",
       "    }\n",
       "\n",
       "    .dataframe tbody tr th {\n",
       "        vertical-align: top;\n",
       "    }\n",
       "\n",
       "    .dataframe thead th {\n",
       "        text-align: right;\n",
       "    }\n",
       "</style>\n",
       "<table border=\"1\" class=\"dataframe\">\n",
       "  <thead>\n",
       "    <tr style=\"text-align: right;\">\n",
       "      <th></th>\n",
       "      <th>similarity</th>\n",
       "      <th>sentence1</th>\n",
       "      <th>sentence2</th>\n",
       "    </tr>\n",
       "  </thead>\n",
       "  <tbody>\n",
       "    <tr>\n",
       "      <th>0</th>\n",
       "      <td>neutral</td>\n",
       "      <td>A person on a horse jumps over a broken down a...</td>\n",
       "      <td>A person is training his horse for a competition.</td>\n",
       "    </tr>\n",
       "    <tr>\n",
       "      <th>1</th>\n",
       "      <td>contradiction</td>\n",
       "      <td>A person on a horse jumps over a broken down a...</td>\n",
       "      <td>A person is at a diner, ordering an omelette.</td>\n",
       "    </tr>\n",
       "    <tr>\n",
       "      <th>2</th>\n",
       "      <td>entailment</td>\n",
       "      <td>A person on a horse jumps over a broken down a...</td>\n",
       "      <td>A person is outdoors, on a horse.</td>\n",
       "    </tr>\n",
       "    <tr>\n",
       "      <th>3</th>\n",
       "      <td>neutral</td>\n",
       "      <td>Children smiling and waving at camera</td>\n",
       "      <td>They are smiling at their parents</td>\n",
       "    </tr>\n",
       "    <tr>\n",
       "      <th>4</th>\n",
       "      <td>entailment</td>\n",
       "      <td>Children smiling and waving at camera</td>\n",
       "      <td>There are children present</td>\n",
       "    </tr>\n",
       "    <tr>\n",
       "      <th>5</th>\n",
       "      <td>contradiction</td>\n",
       "      <td>Children smiling and waving at camera</td>\n",
       "      <td>The kids are frowning</td>\n",
       "    </tr>\n",
       "    <tr>\n",
       "      <th>6</th>\n",
       "      <td>contradiction</td>\n",
       "      <td>A boy is jumping on skateboard in the middle o...</td>\n",
       "      <td>The boy skates down the sidewalk.</td>\n",
       "    </tr>\n",
       "    <tr>\n",
       "      <th>7</th>\n",
       "      <td>entailment</td>\n",
       "      <td>A boy is jumping on skateboard in the middle o...</td>\n",
       "      <td>The boy does a skateboarding trick.</td>\n",
       "    </tr>\n",
       "    <tr>\n",
       "      <th>8</th>\n",
       "      <td>neutral</td>\n",
       "      <td>A boy is jumping on skateboard in the middle o...</td>\n",
       "      <td>The boy is wearing safety equipment.</td>\n",
       "    </tr>\n",
       "    <tr>\n",
       "      <th>9</th>\n",
       "      <td>neutral</td>\n",
       "      <td>An older man sits with his orange juice at a s...</td>\n",
       "      <td>An older man drinks his juice as he waits for ...</td>\n",
       "    </tr>\n",
       "  </tbody>\n",
       "</table>\n",
       "</div>"
      ],
      "text/plain": [
       "      similarity                                          sentence1  \\\n",
       "0        neutral  A person on a horse jumps over a broken down a...   \n",
       "1  contradiction  A person on a horse jumps over a broken down a...   \n",
       "2     entailment  A person on a horse jumps over a broken down a...   \n",
       "3        neutral              Children smiling and waving at camera   \n",
       "4     entailment              Children smiling and waving at camera   \n",
       "5  contradiction              Children smiling and waving at camera   \n",
       "6  contradiction  A boy is jumping on skateboard in the middle o...   \n",
       "7     entailment  A boy is jumping on skateboard in the middle o...   \n",
       "8        neutral  A boy is jumping on skateboard in the middle o...   \n",
       "9        neutral  An older man sits with his orange juice at a s...   \n",
       "\n",
       "                                           sentence2  \n",
       "0  A person is training his horse for a competition.  \n",
       "1      A person is at a diner, ordering an omelette.  \n",
       "2                  A person is outdoors, on a horse.  \n",
       "3                  They are smiling at their parents  \n",
       "4                         There are children present  \n",
       "5                              The kids are frowning  \n",
       "6                  The boy skates down the sidewalk.  \n",
       "7                The boy does a skateboarding trick.  \n",
       "8               The boy is wearing safety equipment.  \n",
       "9  An older man drinks his juice as he waits for ...  "
      ]
     },
     "execution_count": 14,
     "metadata": {},
     "output_type": "execute_result"
    }
   ],
   "source": [
    "df_train.head(10)"
   ]
  },
  {
   "cell_type": "code",
   "execution_count": 15,
   "metadata": {
    "colab": {
     "base_uri": "https://localhost:8080/"
    },
    "executionInfo": {
     "elapsed": 4,
     "status": "ok",
     "timestamp": 1671464699982,
     "user": {
      "displayName": "Hüseyin Yigit ÜLKER",
      "userId": "11051671432114641331"
     },
     "user_tz": -180
    },
    "id": "NhrK3ehfWdgX",
    "outputId": "90f2434b-4bbd-4a14-c5a8-5f6a3495bb3e"
   },
   "outputs": [
    {
     "data": {
      "text/plain": [
       "(550152, 3)"
      ]
     },
     "execution_count": 15,
     "metadata": {},
     "output_type": "execute_result"
    }
   ],
   "source": [
    "df_train.shape"
   ]
  },
  {
   "cell_type": "code",
   "execution_count": 16,
   "metadata": {},
   "outputs": [
    {
     "data": {
      "text/plain": [
       "(10000, 3)"
      ]
     },
     "execution_count": 16,
     "metadata": {},
     "output_type": "execute_result"
    }
   ],
   "source": [
    "df_val.shape"
   ]
  },
  {
   "cell_type": "code",
   "execution_count": 17,
   "metadata": {
    "colab": {
     "base_uri": "https://localhost:8080/"
    },
    "executionInfo": {
     "elapsed": 2,
     "status": "ok",
     "timestamp": 1671464701735,
     "user": {
      "displayName": "Hüseyin Yigit ÜLKER",
      "userId": "11051671432114641331"
     },
     "user_tz": -180
    },
    "id": "PobBrcK_5r9N",
    "outputId": "599d6056-1891-48d6-8774-fb6ce9f61ba0"
   },
   "outputs": [
    {
     "data": {
      "text/plain": [
       "(10000, 3)"
      ]
     },
     "execution_count": 17,
     "metadata": {},
     "output_type": "execute_result"
    }
   ],
   "source": [
    "df_test.shape"
   ]
  },
  {
   "attachments": {},
   "cell_type": "markdown",
   "metadata": {},
   "source": [
    "## Missing Value Check"
   ]
  },
  {
   "attachments": {},
   "cell_type": "markdown",
   "metadata": {},
   "source": [
    "Number of missing values for train data"
   ]
  },
  {
   "cell_type": "code",
   "execution_count": 18,
   "metadata": {
    "colab": {
     "base_uri": "https://localhost:8080/"
    },
    "executionInfo": {
     "elapsed": 2,
     "status": "ok",
     "timestamp": 1670010617244,
     "user": {
      "displayName": "Hüseyin Yigit ÜLKER",
      "userId": "11051671432114641331"
     },
     "user_tz": -180
    },
    "id": "Qd5l4L2A8gnC",
    "outputId": "8667009e-545d-4347-f3b9-ae88a048a27a"
   },
   "outputs": [
    {
     "data": {
      "text/plain": [
       "similarity    0\n",
       "sentence1     0\n",
       "sentence2     6\n",
       "dtype: int64"
      ]
     },
     "execution_count": 18,
     "metadata": {},
     "output_type": "execute_result"
    }
   ],
   "source": [
    "df_train.isnull().sum()"
   ]
  },
  {
   "cell_type": "code",
   "execution_count": 19,
   "metadata": {
    "id": "D6mTWmNj8y4-"
   },
   "outputs": [],
   "source": [
    "df_train.dropna(axis=0, inplace=True)"
   ]
  },
  {
   "attachments": {},
   "cell_type": "markdown",
   "metadata": {},
   "source": [
    "Number of missing values for validation data"
   ]
  },
  {
   "cell_type": "code",
   "execution_count": 20,
   "metadata": {
    "colab": {
     "base_uri": "https://localhost:8080/"
    },
    "executionInfo": {
     "elapsed": 1,
     "status": "ok",
     "timestamp": 1670010620852,
     "user": {
      "displayName": "Hüseyin Yigit ÜLKER",
      "userId": "11051671432114641331"
     },
     "user_tz": -180
    },
    "id": "m4LQlZXU8oN_",
    "outputId": "ec9c5f79-37d3-4988-9074-3e6e13976b35"
   },
   "outputs": [
    {
     "data": {
      "text/plain": [
       "similarity    0\n",
       "sentence1     0\n",
       "sentence2     0\n",
       "dtype: int64"
      ]
     },
     "execution_count": 20,
     "metadata": {},
     "output_type": "execute_result"
    }
   ],
   "source": [
    "df_val.isnull().sum()"
   ]
  },
  {
   "attachments": {},
   "cell_type": "markdown",
   "metadata": {},
   "source": [
    "Number of missing values for test data"
   ]
  },
  {
   "cell_type": "code",
   "execution_count": 21,
   "metadata": {
    "colab": {
     "base_uri": "https://localhost:8080/"
    },
    "executionInfo": {
     "elapsed": 450,
     "status": "ok",
     "timestamp": 1670010622430,
     "user": {
      "displayName": "Hüseyin Yigit ÜLKER",
      "userId": "11051671432114641331"
     },
     "user_tz": -180
    },
    "id": "5qn4ilASYOLC",
    "outputId": "bc8a7ed8-7779-4edf-dab5-f50be0cc33bf"
   },
   "outputs": [
    {
     "data": {
      "text/plain": [
       "similarity    0\n",
       "sentence1     0\n",
       "sentence2     0\n",
       "dtype: int64"
      ]
     },
     "execution_count": 21,
     "metadata": {},
     "output_type": "execute_result"
    }
   ],
   "source": [
    "df_test.isnull().sum()"
   ]
  },
  {
   "attachments": {},
   "cell_type": "markdown",
   "metadata": {},
   "source": [
    "Train Target Distribution"
   ]
  },
  {
   "cell_type": "code",
   "execution_count": 22,
   "metadata": {
    "colab": {
     "base_uri": "https://localhost:8080/"
    },
    "executionInfo": {
     "elapsed": 3,
     "status": "ok",
     "timestamp": 1671464854541,
     "user": {
      "displayName": "Hüseyin Yigit ÜLKER",
      "userId": "11051671432114641331"
     },
     "user_tz": -180
    },
    "id": "-Sq1imLz7PQl",
    "outputId": "53c5d24f-2660-4aa4-e7c6-e3b1ac20b6cc"
   },
   "outputs": [
    {
     "data": {
      "text/plain": [
       "entailment       183414\n",
       "contradiction    183185\n",
       "neutral          182762\n",
       "-                   785\n",
       "Name: similarity, dtype: int64"
      ]
     },
     "execution_count": 22,
     "metadata": {},
     "output_type": "execute_result"
    }
   ],
   "source": [
    "df_train.similarity.value_counts()"
   ]
  },
  {
   "attachments": {},
   "cell_type": "markdown",
   "metadata": {},
   "source": [
    "Validation Target Distribution"
   ]
  },
  {
   "cell_type": "code",
   "execution_count": 23,
   "metadata": {
    "colab": {
     "base_uri": "https://localhost:8080/"
    },
    "executionInfo": {
     "elapsed": 603,
     "status": "ok",
     "timestamp": 1670010631807,
     "user": {
      "displayName": "Hüseyin Yigit ÜLKER",
      "userId": "11051671432114641331"
     },
     "user_tz": -180
    },
    "id": "Zs2Pevl03QDa",
    "outputId": "d1e4b5c7-b06d-4e35-a15b-eef55177a500"
   },
   "outputs": [
    {
     "data": {
      "text/plain": [
       "entailment       3329\n",
       "contradiction    3278\n",
       "neutral          3235\n",
       "-                 158\n",
       "Name: similarity, dtype: int64"
      ]
     },
     "execution_count": 23,
     "metadata": {},
     "output_type": "execute_result"
    }
   ],
   "source": [
    "df_val.similarity.value_counts()"
   ]
  },
  {
   "attachments": {},
   "cell_type": "markdown",
   "metadata": {},
   "source": [
    "Test Data Distribution"
   ]
  },
  {
   "cell_type": "code",
   "execution_count": 24,
   "metadata": {
    "colab": {
     "base_uri": "https://localhost:8080/"
    },
    "executionInfo": {
     "elapsed": 2,
     "status": "ok",
     "timestamp": 1670010632649,
     "user": {
      "displayName": "Hüseyin Yigit ÜLKER",
      "userId": "11051671432114641331"
     },
     "user_tz": -180
    },
    "id": "gztBhJS-Yxn1",
    "outputId": "8275a515-23fa-48e7-caf0-351e5eaecdf6"
   },
   "outputs": [
    {
     "data": {
      "text/plain": [
       "entailment       3368\n",
       "contradiction    3237\n",
       "neutral          3219\n",
       "-                 176\n",
       "Name: similarity, dtype: int64"
      ]
     },
     "execution_count": 24,
     "metadata": {},
     "output_type": "execute_result"
    }
   ],
   "source": [
    "df_test.similarity.value_counts()"
   ]
  },
  {
   "cell_type": "code",
   "execution_count": 25,
   "metadata": {
    "id": "1owf11pl7ajE"
   },
   "outputs": [],
   "source": [
    "df_train = df_train[df_train.similarity != \"-\"].reset_index().drop(\"index\", axis=1)\n",
    "df_val = df_val[df_val.similarity != \"-\"].reset_index().drop(\"index\", axis=1)\n",
    "df_test = df_test[df_test.similarity != \"-\"].reset_index().drop(\"index\", axis=1)"
   ]
  },
  {
   "attachments": {},
   "cell_type": "markdown",
   "metadata": {},
   "source": [
    "Distribution of our train targets"
   ]
  },
  {
   "cell_type": "code",
   "execution_count": 26,
   "metadata": {
    "colab": {
     "base_uri": "https://localhost:8080/"
    },
    "executionInfo": {
     "elapsed": 501,
     "status": "ok",
     "timestamp": 1671464865232,
     "user": {
      "displayName": "Hüseyin Yigit ÜLKER",
      "userId": "11051671432114641331"
     },
     "user_tz": -180
    },
    "id": "-mxoibCg7alR",
    "outputId": "573a65ff-ec15-49b2-ea9d-8b79e9685a4b"
   },
   "outputs": [
    {
     "data": {
      "text/plain": [
       "entailment       183414\n",
       "contradiction    183185\n",
       "neutral          182762\n",
       "Name: similarity, dtype: int64"
      ]
     },
     "execution_count": 26,
     "metadata": {},
     "output_type": "execute_result"
    }
   ],
   "source": [
    "df_train.similarity.value_counts()"
   ]
  },
  {
   "attachments": {},
   "cell_type": "markdown",
   "metadata": {},
   "source": [
    "Distribution of our validation targets"
   ]
  },
  {
   "cell_type": "code",
   "execution_count": 27,
   "metadata": {
    "colab": {
     "base_uri": "https://localhost:8080/"
    },
    "executionInfo": {
     "elapsed": 4,
     "status": "ok",
     "timestamp": 1670015217297,
     "user": {
      "displayName": "Hüseyin Yigit ÜLKER",
      "userId": "11051671432114641331"
     },
     "user_tz": -180
    },
    "id": "3GhCfpC49yAY",
    "outputId": "7ade4353-74ca-43f2-9a4c-8f43603832c0"
   },
   "outputs": [
    {
     "data": {
      "text/plain": [
       "entailment       3329\n",
       "contradiction    3278\n",
       "neutral          3235\n",
       "Name: similarity, dtype: int64"
      ]
     },
     "execution_count": 27,
     "metadata": {},
     "output_type": "execute_result"
    }
   ],
   "source": [
    "df_val.similarity.value_counts()"
   ]
  },
  {
   "attachments": {},
   "cell_type": "markdown",
   "metadata": {},
   "source": [
    "Validation Test Data Distribution"
   ]
  },
  {
   "cell_type": "code",
   "execution_count": 28,
   "metadata": {
    "colab": {
     "base_uri": "https://localhost:8080/"
    },
    "executionInfo": {
     "elapsed": 2,
     "status": "ok",
     "timestamp": 1670015218944,
     "user": {
      "displayName": "Hüseyin Yigit ÜLKER",
      "userId": "11051671432114641331"
     },
     "user_tz": -180
    },
    "id": "YHxkV42AZA8-",
    "outputId": "afb2a4e8-d821-4eb8-c616-5a0c46985240"
   },
   "outputs": [
    {
     "data": {
      "text/plain": [
       "entailment       3368\n",
       "contradiction    3237\n",
       "neutral          3219\n",
       "Name: similarity, dtype: int64"
      ]
     },
     "execution_count": 28,
     "metadata": {},
     "output_type": "execute_result"
    }
   ],
   "source": [
    "df_test.similarity.value_counts()"
   ]
  },
  {
   "cell_type": "code",
   "execution_count": 29,
   "metadata": {
    "colab": {
     "base_uri": "https://localhost:8080/",
     "height": 175
    },
    "executionInfo": {
     "elapsed": 1273,
     "status": "ok",
     "timestamp": 1670015187729,
     "user": {
      "displayName": "Hüseyin Yigit ÜLKER",
      "userId": "11051671432114641331"
     },
     "user_tz": -180
    },
    "id": "q-r1Kd8n3B0d",
    "outputId": "3ff6952e-b4c2-4d9a-b3f5-bdd87a5a3f2f"
   },
   "outputs": [
    {
     "data": {
      "text/html": [
       "<div>\n",
       "<style scoped>\n",
       "    .dataframe tbody tr th:only-of-type {\n",
       "        vertical-align: middle;\n",
       "    }\n",
       "\n",
       "    .dataframe tbody tr th {\n",
       "        vertical-align: top;\n",
       "    }\n",
       "\n",
       "    .dataframe thead th {\n",
       "        text-align: right;\n",
       "    }\n",
       "</style>\n",
       "<table border=\"1\" class=\"dataframe\">\n",
       "  <thead>\n",
       "    <tr style=\"text-align: right;\">\n",
       "      <th></th>\n",
       "      <th>similarity</th>\n",
       "      <th>sentence1</th>\n",
       "      <th>sentence2</th>\n",
       "    </tr>\n",
       "  </thead>\n",
       "  <tbody>\n",
       "    <tr>\n",
       "      <th>count</th>\n",
       "      <td>549361</td>\n",
       "      <td>549361</td>\n",
       "      <td>549361</td>\n",
       "    </tr>\n",
       "    <tr>\n",
       "      <th>unique</th>\n",
       "      <td>3</td>\n",
       "      <td>150772</td>\n",
       "      <td>479422</td>\n",
       "    </tr>\n",
       "    <tr>\n",
       "      <th>top</th>\n",
       "      <td>entailment</td>\n",
       "      <td>A dog in a field.</td>\n",
       "      <td>A man is sleeping.</td>\n",
       "    </tr>\n",
       "    <tr>\n",
       "      <th>freq</th>\n",
       "      <td>183414</td>\n",
       "      <td>33</td>\n",
       "      <td>335</td>\n",
       "    </tr>\n",
       "  </tbody>\n",
       "</table>\n",
       "</div>"
      ],
      "text/plain": [
       "        similarity          sentence1           sentence2\n",
       "count       549361             549361              549361\n",
       "unique           3             150772              479422\n",
       "top     entailment  A dog in a field.  A man is sleeping.\n",
       "freq        183414                 33                 335"
      ]
     },
     "execution_count": 29,
     "metadata": {},
     "output_type": "execute_result"
    }
   ],
   "source": [
    "df_train.describe()"
   ]
  },
  {
   "cell_type": "code",
   "execution_count": 30,
   "metadata": {
    "colab": {
     "base_uri": "https://localhost:8080/",
     "height": 175
    },
    "executionInfo": {
     "elapsed": 445,
     "status": "ok",
     "timestamp": 1670015179232,
     "user": {
      "displayName": "Hüseyin Yigit ÜLKER",
      "userId": "11051671432114641331"
     },
     "user_tz": -180
    },
    "id": "VhAhowCN6ah6",
    "outputId": "e00fdc1d-344d-4e19-c5df-9d97b39415d3"
   },
   "outputs": [
    {
     "data": {
      "text/html": [
       "<div>\n",
       "<style scoped>\n",
       "    .dataframe tbody tr th:only-of-type {\n",
       "        vertical-align: middle;\n",
       "    }\n",
       "\n",
       "    .dataframe tbody tr th {\n",
       "        vertical-align: top;\n",
       "    }\n",
       "\n",
       "    .dataframe thead th {\n",
       "        text-align: right;\n",
       "    }\n",
       "</style>\n",
       "<table border=\"1\" class=\"dataframe\">\n",
       "  <thead>\n",
       "    <tr style=\"text-align: right;\">\n",
       "      <th></th>\n",
       "      <th>similarity</th>\n",
       "      <th>sentence1</th>\n",
       "      <th>sentence2</th>\n",
       "    </tr>\n",
       "  </thead>\n",
       "  <tbody>\n",
       "    <tr>\n",
       "      <th>count</th>\n",
       "      <td>9842</td>\n",
       "      <td>9842</td>\n",
       "      <td>9842</td>\n",
       "    </tr>\n",
       "    <tr>\n",
       "      <th>unique</th>\n",
       "      <td>3</td>\n",
       "      <td>3319</td>\n",
       "      <td>9667</td>\n",
       "    </tr>\n",
       "    <tr>\n",
       "      <th>top</th>\n",
       "      <td>entailment</td>\n",
       "      <td>A lone, 2-3 year old blond child in a blue jac...</td>\n",
       "      <td>People are outside.</td>\n",
       "    </tr>\n",
       "    <tr>\n",
       "      <th>freq</th>\n",
       "      <td>3329</td>\n",
       "      <td>6</td>\n",
       "      <td>6</td>\n",
       "    </tr>\n",
       "  </tbody>\n",
       "</table>\n",
       "</div>"
      ],
      "text/plain": [
       "        similarity                                          sentence1  \\\n",
       "count         9842                                               9842   \n",
       "unique           3                                               3319   \n",
       "top     entailment  A lone, 2-3 year old blond child in a blue jac...   \n",
       "freq          3329                                                  6   \n",
       "\n",
       "                  sentence2  \n",
       "count                  9842  \n",
       "unique                 9667  \n",
       "top     People are outside.  \n",
       "freq                      6  "
      ]
     },
     "execution_count": 30,
     "metadata": {},
     "output_type": "execute_result"
    }
   ],
   "source": [
    "df_val.describe()"
   ]
  },
  {
   "cell_type": "code",
   "execution_count": 31,
   "metadata": {
    "colab": {
     "base_uri": "https://localhost:8080/",
     "height": 175
    },
    "executionInfo": {
     "elapsed": 7,
     "status": "ok",
     "timestamp": 1670015179918,
     "user": {
      "displayName": "Hüseyin Yigit ÜLKER",
      "userId": "11051671432114641331"
     },
     "user_tz": -180
    },
    "id": "NoPBZW5kYUat",
    "outputId": "24ed9078-9c14-4762-d4b7-985bc7c18165"
   },
   "outputs": [
    {
     "data": {
      "text/html": [
       "<div>\n",
       "<style scoped>\n",
       "    .dataframe tbody tr th:only-of-type {\n",
       "        vertical-align: middle;\n",
       "    }\n",
       "\n",
       "    .dataframe tbody tr th {\n",
       "        vertical-align: top;\n",
       "    }\n",
       "\n",
       "    .dataframe thead th {\n",
       "        text-align: right;\n",
       "    }\n",
       "</style>\n",
       "<table border=\"1\" class=\"dataframe\">\n",
       "  <thead>\n",
       "    <tr style=\"text-align: right;\">\n",
       "      <th></th>\n",
       "      <th>similarity</th>\n",
       "      <th>sentence1</th>\n",
       "      <th>sentence2</th>\n",
       "    </tr>\n",
       "  </thead>\n",
       "  <tbody>\n",
       "    <tr>\n",
       "      <th>count</th>\n",
       "      <td>9824</td>\n",
       "      <td>9824</td>\n",
       "      <td>9824</td>\n",
       "    </tr>\n",
       "    <tr>\n",
       "      <th>unique</th>\n",
       "      <td>3</td>\n",
       "      <td>3323</td>\n",
       "      <td>9639</td>\n",
       "    </tr>\n",
       "    <tr>\n",
       "      <th>top</th>\n",
       "      <td>entailment</td>\n",
       "      <td>A boy in a yellow t-shirt and pink sweater tal...</td>\n",
       "      <td>The man is outside.</td>\n",
       "    </tr>\n",
       "    <tr>\n",
       "      <th>freq</th>\n",
       "      <td>3368</td>\n",
       "      <td>6</td>\n",
       "      <td>7</td>\n",
       "    </tr>\n",
       "  </tbody>\n",
       "</table>\n",
       "</div>"
      ],
      "text/plain": [
       "        similarity                                          sentence1  \\\n",
       "count         9824                                               9824   \n",
       "unique           3                                               3323   \n",
       "top     entailment  A boy in a yellow t-shirt and pink sweater tal...   \n",
       "freq          3368                                                  6   \n",
       "\n",
       "                  sentence2  \n",
       "count                  9824  \n",
       "unique                 9639  \n",
       "top     The man is outside.  \n",
       "freq                      7  "
      ]
     },
     "execution_count": 31,
     "metadata": {},
     "output_type": "execute_result"
    }
   ],
   "source": [
    "df_test.describe()"
   ]
  },
  {
   "cell_type": "code",
   "execution_count": 32,
   "metadata": {
    "id": "F64s8ljM_rOB"
   },
   "outputs": [],
   "source": [
    "df_train.to_csv(\n",
    "    \"/Users/emre/GitHub/success-of-ai-writers/data/processed/df_train.csv\", index=False\n",
    ")\n",
    "df_val.to_csv(\n",
    "    \"/Users/emre/GitHub/success-of-ai-writers/data/processed/df_validation.csv\",\n",
    "    index=False,\n",
    ")\n",
    "df_test.to_csv(\n",
    "    \"/Users/emre/GitHub/success-of-ai-writers/data/processed/df_test.csv\", index=False\n",
    ")"
   ]
  },
  {
   "cell_type": "code",
   "execution_count": null,
   "metadata": {},
   "outputs": [],
   "source": []
  }
 ],
 "metadata": {
  "accelerator": "GPU",
  "colab": {
   "authorship_tag": "ABX9TyNe+lfgt1W36MSCw2aSgrgB",
   "provenance": []
  },
  "gpuClass": "standard",
  "kernelspec": {
   "display_name": "base",
   "language": "python",
   "name": "python3"
  },
  "language_info": {
   "codemirror_mode": {
    "name": "ipython",
    "version": 3
   },
   "file_extension": ".py",
   "mimetype": "text/x-python",
   "name": "python",
   "nbconvert_exporter": "python",
   "pygments_lexer": "ipython3",
   "version": "3.10.8"
  },
  "vscode": {
   "interpreter": {
    "hash": "191e8243bcb8f5aab0ea97bfa9c85ee018985bacfde1d91fb59780354c237e7a"
   }
  }
 },
 "nbformat": 4,
 "nbformat_minor": 0
}
